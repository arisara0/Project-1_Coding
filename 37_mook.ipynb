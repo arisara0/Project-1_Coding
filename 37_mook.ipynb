{
  "nbformat": 4,
  "nbformat_minor": 0,
  "metadata": {
    "colab": {
      "provenance": [],
      "authorship_tag": "ABX9TyNLJQWmtm2SLjpRSSioH0fg",
      "include_colab_link": true
    },
    "kernelspec": {
      "name": "python3",
      "display_name": "Python 3"
    },
    "language_info": {
      "name": "python"
    }
  },
  "cells": [
    {
      "cell_type": "markdown",
      "metadata": {
        "id": "view-in-github",
        "colab_type": "text"
      },
      "source": [
        "<a href=\"https://colab.research.google.com/github/arisara0/Project-1_Coding/blob/main/37_mook.ipynb\" target=\"_parent\"><img src=\"https://colab.research.google.com/assets/colab-badge.svg\" alt=\"Open In Colab\"/></a>"
      ]
    },
    {
      "cell_type": "markdown",
      "source": [
        "เลขที่ 37 มุก นางสาว อริสรา สว่างใจ\n",
        "No.37 mook Arisara Sawangjai"
      ],
      "metadata": {
        "id": "quSeZbxVcj8t"
      }
    },
    {
      "cell_type": "markdown",
      "source": [
        "วันที่ 20 พฤษภาคม 2567\n",
        "เรียนเรื่อง pint การเพิ่มข้อความ (แนะนำตัว)\n"
      ],
      "metadata": {
        "id": "pzHBt0HHCGoD"
      }
    },
    {
      "cell_type": "code",
      "execution_count": null,
      "metadata": {
        "id": "wSyeoDjCa1UP",
        "colab": {
          "base_uri": "https://localhost:8080/"
        },
        "outputId": "88d2bcf7-0d52-4d24-cf88-10db70013926"
      },
      "outputs": [
        {
          "output_type": "stream",
          "name": "stdout",
          "text": [
            "สาหวัดดีค่าา ชื่อมุกค่า มาจากห้อง4/4ค่า\n"
          ]
        }
      ],
      "source": [
        "print(\"สาหวัดดีค่าา ชื่อมุกค่า มาจากห้อง4/4ค่า\")"
      ]
    },
    {
      "cell_type": "code",
      "source": [
        "a = 5\n",
        "b = 100\n",
        "print(a,\"เท่าของ\",b,\"เท่ากับ\",a * b)"
      ],
      "metadata": {
        "colab": {
          "base_uri": "https://localhost:8080/"
        },
        "id": "swASnXngFq1l",
        "outputId": "287c0991-4afc-4c31-859a-a02e4f350a9c"
      },
      "execution_count": null,
      "outputs": [
        {
          "output_type": "stream",
          "name": "stdout",
          "text": [
            "5 เท่าของ 100 เท่ากับ 500\n"
          ]
        }
      ]
    },
    {
      "cell_type": "code",
      "source": [
        "numeric1 = 5\n",
        "print(numeric1)\n",
        "type(numeric1)"
      ],
      "metadata": {
        "colab": {
          "base_uri": "https://localhost:8080/"
        },
        "id": "lMnw6k8TkWVS",
        "outputId": "0de23a3f-05a5-4dd5-ecb3-a55e68030b7f"
      },
      "execution_count": null,
      "outputs": [
        {
          "output_type": "stream",
          "name": "stdout",
          "text": [
            "5\n"
          ]
        },
        {
          "output_type": "execute_result",
          "data": {
            "text/plain": [
              "int"
            ]
          },
          "metadata": {},
          "execution_count": 1
        }
      ]
    },
    {
      "cell_type": "markdown",
      "source": [
        "29 พฤษภาคม 2567\n",
        "วันนี้ได้เรียน เรื่อง ตัวแปร ถ้ามีตัวเลขและภาษาอังกฤษรวมกันใช้ไม่ได้ และถ้าเขียนภาษาไทยก็ใช้ไม่ได้ ใช้ได้เฉพาะภาษาอังกฤษ"
      ],
      "metadata": {
        "id": "F5t3m-TliJO2"
      }
    },
    {
      "cell_type": "code",
      "source": [
        "string1 = \"Python\"\n",
        "print(string1[1])"
      ],
      "metadata": {
        "colab": {
          "base_uri": "https://localhost:8080/"
        },
        "id": "rMdkDl8KajSx",
        "outputId": "3f554f34-552b-42df-d5ef-f4c429479c99"
      },
      "execution_count": null,
      "outputs": [
        {
          "output_type": "stream",
          "name": "stdout",
          "text": [
            "y\n"
          ]
        }
      ]
    },
    {
      "cell_type": "markdown",
      "source": [
        "5/06/67\n",
        "indexเริ่มนับจาก0เพิ่มขึ้นทีละหนึ่ง ถ้าจะแสดงค่าindexต้องใช้เครื่องหมาย[]\n",
        "input คือ print(strng1[0])\n",
        "procress-ตอนกดรันโค้ด เนื่อจากบอกไว้ว่า [-1] output-P"
      ],
      "metadata": {
        "id": "TLIyb5JddEJ9"
      }
    },
    {
      "cell_type": "markdown",
      "source": [
        "26 มิถุนายน 2567"
      ],
      "metadata": {
        "id": "TTD7-GH4vwSr"
      }
    },
    {
      "cell_type": "code",
      "source": [
        "name = input (\"ดีน้าเรามุกมิก เธอคือคัย\")\n",
        "print(\"name)"
      ],
      "metadata": {
        "colab": {
          "base_uri": "https://localhost:8080/"
        },
        "id": "Jigmob17vgUc",
        "outputId": "f435e6e3-c4ab-4d7f-9cfc-ff09f51dc16c"
      },
      "execution_count": null,
      "outputs": [
        {
          "output_type": "stream",
          "name": "stdout",
          "text": [
            "ดีน้าเรามุกมิก เธอคือคัยเราคือพิกเรตค้าบบบ\n",
            "เราคือพิกเรตค้าบบบ\n"
          ]
        }
      ]
    },
    {
      "cell_type": "code",
      "source": [
        "\n",
        "side =int(input (\"ความยาวด้าน (ซม.)คือ\"))\n",
        "area = side * side\n",
        "print(\"พื้นที่สี่เหลี่ยม เท่ากับ\" , area,\"ดร.ซม\")"
      ],
      "metadata": {
        "colab": {
          "base_uri": "https://localhost:8080/"
        },
        "id": "dWLzDipqyroS",
        "outputId": "9646a87c-a3b4-4946-ace8-1c6aee22f179"
      },
      "execution_count": null,
      "outputs": [
        {
          "output_type": "stream",
          "name": "stdout",
          "text": [
            "ความยาวด้าน (ซม.)คือ5\n",
            "พื้นที่สี่เหลี่ยม เท่ากับ 25 ดร.ซม\n"
          ]
        }
      ]
    },
    {
      "cell_type": "markdown",
      "source": [
        "1 กรกฎาคม 2567"
      ],
      "metadata": {
        "id": "8ZI7poqOWlK6"
      }
    },
    {
      "cell_type": "code",
      "source": [
        "side =int(input(\"ความยาวด้าน(ซม.)คือ\"))\n",
        "wide = int(input(\"ความกว้าง(ซม.)\"))\n",
        "area = side * wide\n",
        "print(\"พื้นที่สี่เหลี่ยมผืนผ้า เท่ากับ\",area,\"ดร.ซม\")"
      ],
      "metadata": {
        "colab": {
          "base_uri": "https://localhost:8080/"
        },
        "id": "0xP2zvpbRQwF",
        "outputId": "21811db6-b594-45eb-e197-e29c7c338857"
      },
      "execution_count": null,
      "outputs": [
        {
          "output_type": "stream",
          "name": "stdout",
          "text": [
            "ความยาวด้าน(ซม.)คือ5\n",
            "ความกว้าง(ซม.)12\n",
            "พื้นที่สี่เหลี่ยมผืนผ้า เท่ากับ 60 ดร.ซม\n"
          ]
        }
      ]
    },
    {
      "cell_type": "code",
      "source": [
        "v =int(input(\"ระยะทาง (เมตร) มีค่าเท่ากับ\"))\n",
        "t = int(input(\"เวลา (วินาที) มีค่าเท่ากับ\"))\n",
        "s = v/t\n",
        "print(\"ความเร็ว(เมตร/วินาที)มีค่าเท่ากับ\",s)"
      ],
      "metadata": {
        "colab": {
          "base_uri": "https://localhost:8080/"
        },
        "id": "fF_t1h0VSzsE",
        "outputId": "40be822d-1f7f-4535-9148-5bd8f6d13758"
      },
      "execution_count": null,
      "outputs": [
        {
          "output_type": "stream",
          "name": "stdout",
          "text": [
            "ระยะทาง (เมตร) มีค่าเท่ากับ10\n",
            "เวลา (วินาที) มีค่าเท่ากับ20\n",
            "ความเร็ว(เมตร/วินาที)มีค่าเท่ากับ 0.5\n"
          ]
        }
      ]
    },
    {
      "cell_type": "code",
      "source": [
        "weight =float(input(\"น้ำหนักตัว(กก.)มีค่าเท่ากับ\"))\n",
        "high = float(input(\"ส่วนสูง(เมตร)มีค่าเท่ากับ\"))\n",
        "bmi= weight/high**2\n",
        "print(\"ดีชนีมวลกาย (น้ำหนัก/ส่วนสูง**2)มีค่าเท่ากับ\",bmi)\n",
        "print(\"โปรแกรมการหาค่าดัชนีมวลกายทำโดยมุกมุก\")\n",
        "name = input(\"กรุณากรอกชื่อผู้ใช้\")\n",
        "print (\"name\")\n",
        "print(\" ยินดีต้อนรับทุกคนที่ใฃ้น้าจุ้บจุ้บ\")\n",
        "if bmi>23.0\n",
        "print(\"เกินเกณฑ์\")\n",
        "elif bmi<18.5\n",
        "print"
      ],
      "metadata": {
        "colab": {
          "base_uri": "https://localhost:8080/"
        },
        "id": "_4Iwnqb5Y0DY",
        "outputId": "5f20e045-bdfa-4df5-bba3-abee017da9aa"
      },
      "execution_count": null,
      "outputs": [
        {
          "output_type": "stream",
          "name": "stdout",
          "text": [
            "น้ำหนักตัว(กก.)มีค่าเท่ากับ40\n",
            "ส่วนสูง(เมตร)มีค่าเท่ากับ160\n",
            "ดีชนีมวลกาย (น้ำหนัก/ส่วนสูง**2)มีค่าเท่ากับ 0.0015625\n",
            "โปรแกรมการหาค่าดัชนีมวลกายทำโดยมุกมุก\n",
            "กรุณากรอกชื่อผู้ใช้สมรสมศรี วิชัยธรรม\n",
            "name\n",
            " ยินดีต้อนรับทุกคนที่ใฃ้น้าจุ้บจุ้บ\n"
          ]
        }
      ]
    },
    {
      "cell_type": "code",
      "source": [
        "def profit_margin(cost_price, selling_price):\n",
        "    return ((selling_price - cost_price) / cost_price) * 100\n",
        "\n",
        "cost_price = 100\n",
        "selling_price = 150\n",
        "\n",
        "print(\"กำไรเท่ากับ \" ,profit_margin(cost_price, selling_price), \"%\")"
      ],
      "metadata": {
        "colab": {
          "base_uri": "https://localhost:8080/"
        },
        "id": "h4AYohGY-76j",
        "outputId": "9c740888-762f-4108-a3aa-95a1a3de1781"
      },
      "execution_count": 11,
      "outputs": [
        {
          "output_type": "stream",
          "name": "stdout",
          "text": [
            "กำไรเท่ากับ  50.0 %\n"
          ]
        }
      ]
    }
  ]
}